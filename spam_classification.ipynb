{
 "cells": [
  {
   "cell_type": "markdown",
   "metadata": {},
   "source": [
    "## Usefull libraries "
   ]
  },
  {
   "cell_type": "code",
   "execution_count": 1,
   "metadata": {},
   "outputs": [],
   "source": [
    "import pandas as pd \n",
    "import numpy as np \n",
    "\n",
    "import re\n",
    "from nltk.stem import PorterStemmer\n",
    "from nltk.tokenize import word_tokenize\n",
    "\n",
    "from sklearn.preprocessing import LabelEncoder\n",
    "from sklearn.model_selection import train_test_split\n",
    "from sklearn.feature_extraction.text import CountVectorizer, TfidfVectorizer\n",
    "from sklearn.linear_model import LogisticRegression\n",
    "from sklearn.metrics import accuracy_score, precision_score, recall_score, f1_score\n",
    "\n",
    "from sklearn.svm import SVC\n",
    "from sklearn.metrics import f1_score"
   ]
  },
  {
   "cell_type": "markdown",
   "metadata": {},
   "source": [
    "### Loading the data "
   ]
  },
  {
   "cell_type": "code",
   "execution_count": 2,
   "metadata": {},
   "outputs": [],
   "source": [
    "missing_values = [\"n/a\", \"na\", \"--\" , \"empty\" , \"?\" , \"??\" , \"---\" , \"-\", \"__\" , \"___\" , \"___ ___\"]\n",
    "df = pd.read_csv(r\"C:\\Users\\ROHAN SHARMA\\Downloads\\archive (1)\\completeSpamAssassin.csv\", na_values=missing_values)\n"
   ]
  },
  {
   "cell_type": "code",
   "execution_count": 3,
   "metadata": {},
   "outputs": [
    {
     "data": {
      "text/plain": [
       "(6046, 3)"
      ]
     },
     "execution_count": 3,
     "metadata": {},
     "output_type": "execute_result"
    }
   ],
   "source": [
    "df.shape"
   ]
  },
  {
   "cell_type": "code",
   "execution_count": 5,
   "metadata": {},
   "outputs": [
    {
     "name": "stdout",
     "output_type": "stream",
     "text": [
      "--- dataset overview:--- \n",
      "\n",
      "   Unnamed: 0                                               Body  Label\n",
      "0           0  \\nSave up to 70% on Life Insurance.\\nWhy Spend...      1\n",
      "1           1  1) Fight The Risk of Cancer!\\nhttp://www.adcli...      1\n",
      "2           2  1) Fight The Risk of Cancer!\\nhttp://www.adcli...      1\n",
      "3           3  ##############################################...      1\n",
      "4           4  I thought you might like these:\\n1) Slim Down ...      1\n",
      "      Unnamed: 0                                               Body  Label\n",
      "6033        6033  ----------------------------------------------...      0\n",
      "6034        6034  EFFector       Vol. 15, No. 35       November ...      0\n",
      "6039        6039  \\nWe have extended our Free seat sale until Th...      0\n",
      "6042        6042                    ___           ___           ...      0\n",
      "6043        6043  IN THIS ISSUE:01. Readers write\\n02. Extension...      0\n",
      "\n",
      "--- dataset info :---\n",
      "\n",
      "<class 'pandas.core.frame.DataFrame'>\n",
      "Index: 5512 entries, 0 to 6043\n",
      "Data columns (total 3 columns):\n",
      " #   Column      Non-Null Count  Dtype \n",
      "---  ------      --------------  ----- \n",
      " 0   Unnamed: 0  5512 non-null   int64 \n",
      " 1   Body        5512 non-null   object\n",
      " 2   Label       5512 non-null   int64 \n",
      "dtypes: int64(2), object(1)\n",
      "memory usage: 172.2+ KB\n",
      "None\n",
      "\n",
      "---no. of dimensions =  2\n",
      "\n",
      "---list of the labels   [Index([   0,    1,    2,    3,    4,    5,    6,    7,    8,    9,\n",
      "       ...\n",
      "       6026, 6027, 6030, 6031, 6032, 6033, 6034, 6039, 6042, 6043],\n",
      "      dtype='int64', length=5512), Index(['Unnamed: 0', 'Body', 'Label'], dtype='object')]\n",
      "is dataset empty?  False\n"
     ]
    }
   ],
   "source": [
    "class primitive_analysis:\n",
    "    \n",
    "    def __init__(self):\n",
    "        print(\"--- dataset overview:--- \\n\")\n",
    "        print(df.head(5))\n",
    "        print(df.tail(5))\n",
    "    \n",
    "    def info(self, df):\n",
    "        print(\"\\n--- dataset info :---\\n\")\n",
    "        print(df.info())\n",
    "        \n",
    "    def dimensions(self, df):\n",
    "        print(\"\\n---no. of dimensions = \", df.ndim)\n",
    "        \n",
    "    def size(self, df):\n",
    "        print(\"\\n---size of dataset = \", df.size)\n",
    "        \n",
    "    def axes(self, df):\n",
    "        print(\"\\n---list of the labels  \", df.axes)\n",
    "        \n",
    "    def empty(self, df):\n",
    "        print(\"is dataset empty? \", df.empty)\n",
    "\n",
    "obj_primitive = primitive_analysis()\n",
    "obj_primitive.info(df )\n",
    "obj_primitive.dimensions(df)\n",
    "obj_primitive.axes(df)\n",
    "obj_primitive.empty(df)"
   ]
  },
  {
   "cell_type": "code",
   "execution_count": 8,
   "metadata": {},
   "outputs": [],
   "source": [
    "x = df[\"Body\"]\n",
    "y = df[\"Label\"]"
   ]
  },
  {
   "cell_type": "code",
   "execution_count": 9,
   "metadata": {},
   "outputs": [
    {
     "name": "stdout",
     "output_type": "stream",
     "text": [
      "(5512,) (4409,) (1103,)\n"
     ]
    }
   ],
   "source": [
    "x_train, x_test, y_train, y_test = train_test_split(x, y, random_state=3 , test_size=0.2 )\n",
    "print(x.shape , x_train.shape , x_test.shape)"
   ]
  },
  {
   "cell_type": "code",
   "execution_count": 13,
   "metadata": {},
   "outputs": [],
   "source": [
    "feature_extraction = TfidfVectorizer(min_df=1, stop_words=\"english\", lowercase=True)\n",
    "\n",
    "x_train_features = feature_extraction.fit_transform(x_train)\n",
    "x_test_features = feature_extraction.transform(x_test)\n",
    "\n",
    "y_train = y_train.astype(\"int\")\n",
    "y_test = y_test.astype(\"int\")"
   ]
  },
  {
   "cell_type": "code",
   "execution_count": 21,
   "metadata": {},
   "outputs": [],
   "source": [
    "def remove_urls(text):\n",
    "    url_pattern = r'(http|https)://[^\\s]*'\n",
    "    return re.sub(url_pattern, '', text)"
   ]
  },
  {
   "cell_type": "code",
   "execution_count": 22,
   "metadata": {},
   "outputs": [],
   "source": [
    "x_train = x_train.apply(remove_urls)\n",
    "x_test = x_test.apply(remove_urls)"
   ]
  },
  {
   "cell_type": "code",
   "execution_count": 23,
   "metadata": {},
   "outputs": [],
   "source": [
    "feature_extraction = TfidfVectorizer(min_df=1, stop_words=\"english\", lowercase=True)\n",
    "\n",
    "# Transform the text data\n",
    "x_train_features = feature_extraction.fit_transform(x_train)\n",
    "x_test_features = feature_extraction.transform(x_test)"
   ]
  },
  {
   "cell_type": "code",
   "execution_count": 24,
   "metadata": {},
   "outputs": [],
   "source": [
    "model = LogisticRegression()\n",
    "model.fit(x_train_features, y_train)\n",
    "\n",
    "# Making predictions on the test set\n",
    "y_pred = model.predict(x_test_features)"
   ]
  },
  {
   "cell_type": "code",
   "execution_count": 25,
   "metadata": {},
   "outputs": [
    {
     "name": "stdout",
     "output_type": "stream",
     "text": [
      "F1 Score: 0.9658928524201731\n"
     ]
    }
   ],
   "source": [
    "f1 = f1_score(y_test, y_pred, average='weighted')\n",
    "print(f\"F1 Score: {f1}\")"
   ]
  },
  {
   "cell_type": "code",
   "execution_count": 27,
   "metadata": {},
   "outputs": [],
   "source": [
    "# Bag-of-Words (BoW) representation\n",
    "vectorizer_bow = CountVectorizer()\n",
    "bow_matrix = vectorizer_bow.fit_transform(df['Body'])\n",
    "\n",
    "# TF-IDF representation\n",
    "vectorizer_tfidf = TfidfVectorizer()\n",
    "tfidf_matrix = vectorizer_tfidf.fit_transform(df['Body'])"
   ]
  },
  {
   "cell_type": "code",
   "execution_count": 29,
   "metadata": {},
   "outputs": [],
   "source": [
    "from sklearn.svm import SVC\n",
    "from sklearn.ensemble import RandomForestClassifier\n",
    "from sklearn.naive_bayes import MultinomialNB\n",
    "from sklearn.model_selection import KFold"
   ]
  },
  {
   "cell_type": "code",
   "execution_count": 30,
   "metadata": {},
   "outputs": [],
   "source": [
    "models = [\n",
    "    SVC(),\n",
    "    RandomForestClassifier(),\n",
    "    MultinomialNB()\n",
    "]"
   ]
  },
  {
   "cell_type": "code",
   "execution_count": 31,
   "metadata": {},
   "outputs": [],
   "source": [
    "X_train, X_test, y_train, y_test = train_test_split(bow_matrix, df['Label'], test_size=0.2, random_state=42)"
   ]
  },
  {
   "cell_type": "code",
   "execution_count": 34,
   "metadata": {},
   "outputs": [
    {
     "name": "stdout",
     "output_type": "stream",
     "text": [
      "Model: SVC\n",
      "Accuracy: 0.9256572982774252\n",
      "Precision: 0.966789667896679\n",
      "Recall: 0.7820895522388059\n",
      "F1 Score: 0.8646864686468647\n",
      "---\n",
      "Model: RandomForestClassifier\n",
      "Accuracy: 0.9682683590208522\n",
      "Precision: 0.9838709677419355\n",
      "Recall: 0.9104477611940298\n",
      "F1 Score: 0.9457364341085271\n",
      "---\n",
      "Model: MultinomialNB\n",
      "Accuracy: 0.9891205802357208\n",
      "Precision: 0.9908814589665653\n",
      "Recall: 0.9731343283582089\n",
      "F1 Score: 0.9819277108433735\n",
      "---\n"
     ]
    }
   ],
   "source": [
    "for model in models:\n",
    "    model.fit(X_train, y_train)\n",
    "    y_pred = model.predict(X_test)\n",
    "    \n",
    "    accuracy = accuracy_score(y_test, y_pred)\n",
    "    precision = precision_score(y_test, y_pred)\n",
    "    recall = recall_score(y_test, y_pred)\n",
    "    f1 = f1_score(y_test, y_pred)\n",
    "    \n",
    "    model_name = type(model).__name__\n",
    "    print(f\"Model: {model_name}\")\n",
    "    print(f\"Accuracy: {accuracy}\")\n",
    "    print(f\"Precision: {precision}\")\n",
    "    print(f\"Recall: {recall}\")\n",
    "    print(f\"F1 Score: {f1}\")\n",
    "    print(\"---\")"
   ]
  },
  {
   "cell_type": "code",
   "execution_count": 33,
   "metadata": {},
   "outputs": [],
   "source": []
  }
 ],
 "metadata": {
  "kernelspec": {
   "display_name": "Python 3",
   "language": "python",
   "name": "python3"
  },
  "language_info": {
   "codemirror_mode": {
    "name": "ipython",
    "version": 3
   },
   "file_extension": ".py",
   "mimetype": "text/x-python",
   "name": "python",
   "nbconvert_exporter": "python",
   "pygments_lexer": "ipython3",
   "version": "3.12.3"
  }
 },
 "nbformat": 4,
 "nbformat_minor": 2
}
